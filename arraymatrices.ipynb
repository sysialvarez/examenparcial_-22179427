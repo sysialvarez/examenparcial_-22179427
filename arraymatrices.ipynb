{
 "cells": [
  {
   "cell_type": "code",
   "execution_count": 2,
   "id": "b3858dd0-f63c-4acd-8d8e-ea96d471b8de",
   "metadata": {},
   "outputs": [],
   "source": [
    "import random"
   ]
  },
  {
   "cell_type": "code",
   "execution_count": 3,
   "id": "bbb57dc0-98a1-46cb-9d54-91ba396a2765",
   "metadata": {},
   "outputs": [],
   "source": [
    "import math"
   ]
  },
  {
   "cell_type": "code",
   "execution_count": 4,
   "id": "c6c7f548-5769-4959-9531-9bab0d2d2a9d",
   "metadata": {},
   "outputs": [],
   "source": [
    "import multiprocessing as mp"
   ]
  },
  {
   "cell_type": "code",
   "execution_count": 5,
   "id": "d8caf4a5-ed52-448e-833f-2a6bf2635c01",
   "metadata": {},
   "outputs": [],
   "source": [
    "import time"
   ]
  },
  {
   "cell_type": "code",
   "execution_count": 6,
   "id": "1027be6f-8b15-4c70-83b0-bb3e614aa81a",
   "metadata": {},
   "outputs": [],
   "source": [
    "def sec_mult(A, B):\n",
    "    C = [[0] * n_col_B for i in range(n_fil_A)]\n",
    "    for i in range(n_fil_A):\n",
    "        for j in range(n_col_B):\n",
    "            for k in range(n_col_A):\n",
    "                C[i][j] += A[i][k] * B[k][j]\n",
    "    return C"
   ]
  },
  {
   "cell_type": "code",
   "execution_count": 7,
   "id": "b077cad7-e85b-47ff-bfba-455ae2062575",
   "metadata": {},
   "outputs": [],
   "source": [
    "def par_mult(A,B):\n",
    "    n_cores = mp.cpu_count()\n",
    "    size_col = math.ceil(n_col_B/n_cores)\n",
    "    size_fil = math.ceil(n_fil_A/n_cores)\n",
    "    MC = mp.RawArray('i', n_fil_A * n_col_B)\n",
    "    cores = []\n",
    "    for core in range(n_cores):\n",
    "        i_MC = min(core * size_fil, n_fil_A)\n",
    "        f_MC = min((core+1) * size_fil, n_fil_A)\n",
    "        cores.append(mp.Process(target=par_core, args=(A, B, MC, i_MC, f_MC)))\n",
    "        for core in cores:\n",
    "            core.start()\n",
    "        for core in cores:\n",
    "            core.join()\n",
    "        C_2D = [[0] * n_col_B for i in range(n_fil_A)]\n",
    "        for i in range(n_fil_A):\n",
    "            for j in range(n_col_B):\n",
    "                C_2D[i][j] = MC[i*n_col_B + j]\n",
    "        return C_2D\n",
    "                "
   ]
  },
  {
   "cell_type": "code",
   "execution_count": 8,
   "id": "beacb772-cbd1-43af-867b-6db2468f80ae",
   "metadata": {},
   "outputs": [],
   "source": [
    "def par_core(A, B , MC, i_MC, f_MC):\n",
    "    for i in range(i_MC, f_MC):\n",
    "        for j in range(len(B[0])):\n",
    "            for k in range(len(A[0])):\n",
    "                MC[i*len(B[0]) + j] += A[i][k] * B[k][j]\n",
    "                "
   ]
  },
  {
   "cell_type": "code",
   "execution_count": 11,
   "id": "573894a5-5542-4429-b60a-3cb6231ede6c",
   "metadata": {},
   "outputs": [
    {
     "name": "stdout",
     "output_type": "stream",
     "text": [
      "\n",
      "\n",
      "Matriz A y B se han multiplicado con exito en secuencial ha tardado 0.05119681358337402  y en PARALELO  0.05123400688171387\n"
     ]
    },
    {
     "name": "stderr",
     "output_type": "stream",
     "text": [
      "Traceback (most recent call last):\n",
      "  File \"<string>\", line 1, in <module>\n",
      "  File \"/opt/homebrew/Cellar/python@3.10/3.10.8/Frameworks/Python.framework/Versions/3.10/lib/python3.10/multiprocessing/spawn.py\", line 116, in spawn_main\n",
      "    exitcode = _main(fd, parent_sentinel)\n",
      "  File \"/opt/homebrew/Cellar/python@3.10/3.10.8/Frameworks/Python.framework/Versions/3.10/lib/python3.10/multiprocessing/spawn.py\", line 126, in _main\n",
      "    self = reduction.pickle.load(from_parent)\n",
      "AttributeError: Can't get attribute 'par_core' on <module '__main__' (built-in)>\n"
     ]
    }
   ],
   "source": [
    "if __name__ == '__main__':\n",
    "    A = [[random.randint(0,215) for i in range(6)] for j in range(200)]\n",
    "    B = [[random.randint(0,215) for i in range(200)] for j in range(6)]\n",
    "    n_fil_A = len(A)\n",
    "    n_fil_B = len(B)\n",
    "    n_col_A = len(A[0])\n",
    "    n_col_B = len(B[0])\n",
    "    if n_col_A != n_fil_B: raise Exception('Dimensiones no validas')\n",
    "    inicioS = time.time()\n",
    "    sec_mult(A, B)\n",
    "    finS = time.time()\n",
    "    inicioP = time.time()\n",
    "    par_mult(A, B)\n",
    "    finP = time.time()\n",
    "    print('\\n\\nMatriz A y B se han multiplicado con exito en secuencial ha tardado', finS-inicioS, ' y en PARALELO ', finP-inicioP)\n",
    "    "
   ]
  },
  {
   "cell_type": "code",
   "execution_count": null,
   "id": "40959105-1a29-4e1c-bbfd-7dacb516ceb0",
   "metadata": {},
   "outputs": [],
   "source": []
  },
  {
   "cell_type": "code",
   "execution_count": null,
   "id": "5e0aab72-955e-44d7-9728-7cd669b32518",
   "metadata": {},
   "outputs": [],
   "source": []
  },
  {
   "cell_type": "code",
   "execution_count": null,
   "id": "79746c57-58c2-428f-b858-6f6fa444587d",
   "metadata": {},
   "outputs": [],
   "source": []
  }
 ],
 "metadata": {
  "kernelspec": {
   "display_name": "Python 3 (ipykernel)",
   "language": "python",
   "name": "python3"
  },
  "language_info": {
   "codemirror_mode": {
    "name": "ipython",
    "version": 3
   },
   "file_extension": ".py",
   "mimetype": "text/x-python",
   "name": "python",
   "nbconvert_exporter": "python",
   "pygments_lexer": "ipython3",
   "version": "3.10.8"
  }
 },
 "nbformat": 4,
 "nbformat_minor": 5
}
